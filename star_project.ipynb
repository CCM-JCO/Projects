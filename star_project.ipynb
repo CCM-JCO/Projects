{
 "cells": [
  {
   "cell_type": "code",
   "execution_count": 1,
   "metadata": {},
   "outputs": [
    {
     "name": "stdout",
     "output_type": "stream",
     "text": [
      "The shape of the dataset: (240, 7)\n"
     ]
    }
   ],
   "source": [
    "from sklearn.cluster import KMeans\n",
    "from sklearn.metrics import silhouette_samples, silhouette_score\n",
    "import pandas as pd\n",
    "import numpy as np\n",
    "import matplotlib.pyplot as plt\n",
    "import seaborn as sns\n",
    "import os\n",
    "\n",
    "os.chdir('/users/memdp/PYTHON_CODE/Datasets')\n",
    "\n",
    "df = pd.read_csv('6 class csv.csv')\n",
    "\n",
    "print('The shape of the dataset:', df.shape)"
   ]
  },
  {
   "cell_type": "code",
   "execution_count": 2,
   "metadata": {},
   "outputs": [
    {
     "data": {
      "text/html": [
       "<div>\n",
       "<style scoped>\n",
       "    .dataframe tbody tr th:only-of-type {\n",
       "        vertical-align: middle;\n",
       "    }\n",
       "\n",
       "    .dataframe tbody tr th {\n",
       "        vertical-align: top;\n",
       "    }\n",
       "\n",
       "    .dataframe thead th {\n",
       "        text-align: right;\n",
       "    }\n",
       "</style>\n",
       "<table border=\"1\" class=\"dataframe\">\n",
       "  <thead>\n",
       "    <tr style=\"text-align: right;\">\n",
       "      <th></th>\n",
       "      <th>Temperature (K)</th>\n",
       "      <th>Luminosity(L/Lo)</th>\n",
       "      <th>Radius(R/Ro)</th>\n",
       "      <th>Absolute magnitude(Mv)</th>\n",
       "      <th>Star type</th>\n",
       "      <th>Star color</th>\n",
       "      <th>Spectral Class</th>\n",
       "    </tr>\n",
       "  </thead>\n",
       "  <tbody>\n",
       "    <tr>\n",
       "      <th>0</th>\n",
       "      <td>3068</td>\n",
       "      <td>0.002400</td>\n",
       "      <td>0.1700</td>\n",
       "      <td>16.12</td>\n",
       "      <td>0</td>\n",
       "      <td>Red</td>\n",
       "      <td>M</td>\n",
       "    </tr>\n",
       "    <tr>\n",
       "      <th>1</th>\n",
       "      <td>3042</td>\n",
       "      <td>0.000500</td>\n",
       "      <td>0.1542</td>\n",
       "      <td>16.60</td>\n",
       "      <td>0</td>\n",
       "      <td>Red</td>\n",
       "      <td>M</td>\n",
       "    </tr>\n",
       "    <tr>\n",
       "      <th>2</th>\n",
       "      <td>2600</td>\n",
       "      <td>0.000300</td>\n",
       "      <td>0.1020</td>\n",
       "      <td>18.70</td>\n",
       "      <td>0</td>\n",
       "      <td>Red</td>\n",
       "      <td>M</td>\n",
       "    </tr>\n",
       "    <tr>\n",
       "      <th>3</th>\n",
       "      <td>2800</td>\n",
       "      <td>0.000200</td>\n",
       "      <td>0.1600</td>\n",
       "      <td>16.65</td>\n",
       "      <td>0</td>\n",
       "      <td>Red</td>\n",
       "      <td>M</td>\n",
       "    </tr>\n",
       "    <tr>\n",
       "      <th>4</th>\n",
       "      <td>1939</td>\n",
       "      <td>0.000138</td>\n",
       "      <td>0.1030</td>\n",
       "      <td>20.06</td>\n",
       "      <td>0</td>\n",
       "      <td>Red</td>\n",
       "      <td>M</td>\n",
       "    </tr>\n",
       "    <tr>\n",
       "      <th>5</th>\n",
       "      <td>2840</td>\n",
       "      <td>0.000650</td>\n",
       "      <td>0.1100</td>\n",
       "      <td>16.98</td>\n",
       "      <td>0</td>\n",
       "      <td>Red</td>\n",
       "      <td>M</td>\n",
       "    </tr>\n",
       "    <tr>\n",
       "      <th>6</th>\n",
       "      <td>2637</td>\n",
       "      <td>0.000730</td>\n",
       "      <td>0.1270</td>\n",
       "      <td>17.22</td>\n",
       "      <td>0</td>\n",
       "      <td>Red</td>\n",
       "      <td>M</td>\n",
       "    </tr>\n",
       "    <tr>\n",
       "      <th>7</th>\n",
       "      <td>2600</td>\n",
       "      <td>0.000400</td>\n",
       "      <td>0.0960</td>\n",
       "      <td>17.40</td>\n",
       "      <td>0</td>\n",
       "      <td>Red</td>\n",
       "      <td>M</td>\n",
       "    </tr>\n",
       "    <tr>\n",
       "      <th>8</th>\n",
       "      <td>2650</td>\n",
       "      <td>0.000690</td>\n",
       "      <td>0.1100</td>\n",
       "      <td>17.45</td>\n",
       "      <td>0</td>\n",
       "      <td>Red</td>\n",
       "      <td>M</td>\n",
       "    </tr>\n",
       "    <tr>\n",
       "      <th>9</th>\n",
       "      <td>2700</td>\n",
       "      <td>0.000180</td>\n",
       "      <td>0.1300</td>\n",
       "      <td>16.05</td>\n",
       "      <td>0</td>\n",
       "      <td>Red</td>\n",
       "      <td>M</td>\n",
       "    </tr>\n",
       "  </tbody>\n",
       "</table>\n",
       "</div>"
      ],
      "text/plain": [
       "   Temperature (K)  Luminosity(L/Lo)  Radius(R/Ro)  Absolute magnitude(Mv)  \\\n",
       "0             3068          0.002400        0.1700                   16.12   \n",
       "1             3042          0.000500        0.1542                   16.60   \n",
       "2             2600          0.000300        0.1020                   18.70   \n",
       "3             2800          0.000200        0.1600                   16.65   \n",
       "4             1939          0.000138        0.1030                   20.06   \n",
       "5             2840          0.000650        0.1100                   16.98   \n",
       "6             2637          0.000730        0.1270                   17.22   \n",
       "7             2600          0.000400        0.0960                   17.40   \n",
       "8             2650          0.000690        0.1100                   17.45   \n",
       "9             2700          0.000180        0.1300                   16.05   \n",
       "\n",
       "   Star type Star color Spectral Class  \n",
       "0          0        Red              M  \n",
       "1          0        Red              M  \n",
       "2          0        Red              M  \n",
       "3          0        Red              M  \n",
       "4          0        Red              M  \n",
       "5          0        Red              M  \n",
       "6          0        Red              M  \n",
       "7          0        Red              M  \n",
       "8          0        Red              M  \n",
       "9          0        Red              M  "
      ]
     },
     "execution_count": 2,
     "metadata": {},
     "output_type": "execute_result"
    }
   ],
   "source": [
    "df.head(10)"
   ]
  },
  {
   "cell_type": "code",
   "execution_count": 3,
   "metadata": {},
   "outputs": [
    {
     "name": "stdout",
     "output_type": "stream",
     "text": [
      "Temperature for Brown Dwarfs data statistics:\n",
      " count      40.000000\n",
      "mean     2997.950000\n",
      "std       332.276295\n",
      "min      1939.000000\n",
      "25%      2812.750000\n",
      "50%      2935.000000\n",
      "75%      3242.500000\n",
      "max      3531.000000\n",
      "Name: Temperature (K), dtype: float64\n",
      "\n",
      "Temperature for Brown Dwarfs data statistics:\n",
      " count      40.000000\n",
      "mean     3283.825000\n",
      "std       269.637258\n",
      "min      2621.000000\n",
      "25%      3132.750000\n",
      "50%      3314.000000\n",
      "75%      3527.500000\n",
      "max      3692.000000\n",
      "Name: Temperature (K), dtype: float64\n",
      "\n",
      "Temperature for White Dwarfs data statistics:\n",
      " count       40.000000\n",
      "mean     13931.450000\n",
      "std       4957.655189\n",
      "min       7100.000000\n",
      "25%       9488.750000\n",
      "50%      13380.000000\n",
      "75%      17380.000000\n",
      "max      25000.000000\n",
      "Name: Temperature (K), dtype: float64\n"
     ]
    }
   ],
   "source": [
    "# Temperature for Brown Dwarfs\n",
    "brown_dwarfs = df['Temperature (K)'].loc[df['Star type'] == 0]\n",
    "\n",
    "print('Temperature for Brown Dwarfs data statistics:\\n', brown_dwarfs.describe())\n",
    "# Temperature for Red Dwarfs\n",
    "red_dwarfs = df['Temperature (K)'].loc[df['Star type'] == 1]\n",
    "\n",
    "print('\\nTemperature for Brown Dwarfs data statistics:\\n', red_dwarfs.describe())\n",
    "\n",
    "# Temperature for White Dwarfs\n",
    "white_dwarfs = df['Temperature (K)'].loc[df['Star type'] == 2]\n",
    "\n",
    "print('\\nTemperature for White Dwarfs data statistics:\\n', white_dwarfs.describe())"
   ]
  },
  {
   "cell_type": "code",
   "execution_count": 4,
   "metadata": {},
   "outputs": [
    {
     "name": "stdout",
     "output_type": "stream",
     "text": [
      "\n",
      "Temperature for Main Sequence data statistics:\n",
      " count       40.000000\n",
      "mean     16018.000000\n",
      "std      10661.234972\n",
      "min       4077.000000\n",
      "25%       7479.250000\n",
      "50%      12560.500000\n",
      "75%      23030.000000\n",
      "max      39000.000000\n",
      "Name: Temperature (K), dtype: float64\n",
      "\n",
      "Temperature for Supergiant data statistics:\n",
      " count       40.000000\n",
      "mean     15347.850000\n",
      "std      10086.784628\n",
      "min       3008.000000\n",
      "25%       6899.500000\n",
      "50%      12821.000000\n",
      "75%      23181.250000\n",
      "max      40000.000000\n",
      "Name: Temperature (K), dtype: float64\n",
      "\n",
      "Temperature for Hypergiant data statistics:\n",
      " count       40.000000\n",
      "mean     11405.700000\n",
      "std      11816.991886\n",
      "min       3399.000000\n",
      "25%       3603.750000\n",
      "50%       3766.000000\n",
      "75%      18976.000000\n",
      "max      38940.000000\n",
      "Name: Temperature (K), dtype: float64\n"
     ]
    }
   ],
   "source": [
    "# Temperature for Main Sequence\n",
    "main_seq = df['Temperature (K)'].loc[df['Star type'] == 3]\n",
    "\n",
    "print('\\nTemperature for Main Sequence data statistics:\\n', main_seq.describe())\n",
    "\n",
    "# Temperature for Supergiant\n",
    "supergiant = df['Temperature (K)'].loc[df['Star type'] == 4]\n",
    "\n",
    "print('\\nTemperature for Supergiant data statistics:\\n', supergiant.describe())\n",
    "\n",
    "# Temperature for Hypergiant\n",
    "hypergiant = df['Temperature (K)'].loc[df['Star type'] == 5]\n",
    "\n",
    "print('\\nTemperature for Hypergiant data statistics:\\n', hypergiant.describe())"
   ]
  },
  {
   "cell_type": "code",
   "execution_count": 5,
   "metadata": {},
   "outputs": [
    {
     "name": "stdout",
     "output_type": "stream",
     "text": [
      "Brown Dwarf -- (Min index, Max index): 4 121\n",
      "Red Dwarf -- (Min index, Max index): 78 17\n",
      "White Dwarf -- (Min index, Max index): 80 20\n",
      "Main Sequence -- (Min index, Max index): 92 30\n",
      "Supergiant -- (Min index, Max index): 44 101\n",
      "Hypergiant -- (Min index, Max index): 113 235\n"
     ]
    }
   ],
   "source": [
    "# Locating the index where the max and min values of Temperature\n",
    "# for each star type\n",
    "print('Brown Dwarf -- (Min index, Max index):', brown_dwarfs.idxmin(), brown_dwarfs.idxmax())\n",
    "print('Red Dwarf -- (Min index, Max index):', red_dwarfs.idxmin(), red_dwarfs.idxmax())\n",
    "print('White Dwarf -- (Min index, Max index):', white_dwarfs.idxmin(), white_dwarfs.idxmax())\n",
    "print('Main Sequence -- (Min index, Max index):', main_seq.idxmin(), main_seq.idxmax())\n",
    "print('Supergiant -- (Min index, Max index):', supergiant.idxmin(), supergiant.idxmax())\n",
    "print('Hypergiant -- (Min index, Max index):', hypergiant.idxmin(), hypergiant.idxmax())"
   ]
  },
  {
   "cell_type": "code",
   "execution_count": 6,
   "metadata": {},
   "outputs": [
    {
     "data": {
      "text/plain": [
       "<matplotlib.collections.PathCollection at 0x1a8f28327c0>"
      ]
     },
     "execution_count": 6,
     "metadata": {},
     "output_type": "execute_result"
    },
    {
     "data": {
      "image/png": "[encoded data removed]",
      "text/plain": [
       "<Figure size 432x288 with 1 Axes>"
      ]
     },
     "metadata": {
      "needs_background": "light"
     },
     "output_type": "display_data"
    }
   ],
   "source": [
    "plt.scatter(df['Absolute magnitude(Mv)'], df['Temperature (K)'])"
   ]
  },
  {
   "cell_type": "code",
   "execution_count": 7,
   "metadata": {},
   "outputs": [
    {
     "data": {
      "text/plain": [
       "Text(0.5, 1.0, 'Temperature vs Abs. Magnitude')"
      ]
     },
     "execution_count": 7,
     "metadata": {},
     "output_type": "execute_result"
    },
    {
     "data": {
      "image/png": "[encoded data removed]",
      "text/plain": [
       "<Figure size 1080x1080 with 1 Axes>"
      ]
     },
     "metadata": {},
     "output_type": "display_data"
    }
   ],
   "source": [
    "X = df[['Absolute magnitude(Mv)', 'Temperature (K)']]\n",
    "\n",
    "kmeans = KMeans(n_clusters=5, random_state=0).fit(X)\n",
    "\n",
    "centroids = kmeans.cluster_centers_\n",
    "\n",
    "sns.set(rc = {'figure.figsize':(15,15)})\n",
    "ax = sns.scatterplot(x=df['Absolute magnitude(Mv)'], y=df['Temperature (K)'])\n",
    "sns.scatterplot(x=centroids[:, 0], y=centroids[:, 1])\n",
    "ax.set_title('Temperature vs Abs. Magnitude')"
   ]
  },
  {
   "cell_type": "code",
   "execution_count": 8,
   "metadata": {},
   "outputs": [
    {
     "name": "stdout",
     "output_type": "stream",
     "text": [
      "For n_clusters = 5 The average silhouette_score is : 0.7146818062383213\n"
     ]
    }
   ],
   "source": [
    "# Check the silhouette scores\n",
    "cluster_labels = kmeans.fit_predict(X)\n",
    "silhouette_avg = silhouette_score(X, cluster_labels)\n",
    "\n",
    "print('For n_clusters =', 5,\n",
    "      'The average silhouette_score is :', silhouette_avg)\n",
    "# This silhouette score is relatively close to 1\n",
    "# Therefore these are dense, well-seperated clusters"
   ]
  }
 ],
 "metadata": {
  "kernelspec": {
   "display_name": "Python 3",
   "language": "python",
   "name": "python3"
  },
  "language_info": {
   "codemirror_mode": {
    "name": "ipython",
    "version": 3
   },
   "file_extension": ".py",
   "mimetype": "text/x-python",
   "name": "python",
   "nbconvert_exporter": "python",
   "pygments_lexer": "ipython3",
   "version": "3.8.5"
  }
 },
 "nbformat": 4,
 "nbformat_minor": 4
}
